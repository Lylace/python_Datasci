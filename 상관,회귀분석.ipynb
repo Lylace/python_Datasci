{
 "cells": [
  {
   "cell_type": "code",
   "execution_count": 3,
   "metadata": {
    "collapsed": true
   },
   "outputs": [
    {
     "name": "stdout",
     "output_type": "stream",
     "text": [
      "      V1    V2   V3  V4   V5  V6   V7   V8    V9\n0   2015  2015  5.0  45  173  75   60  500   100\n1   2014  2015  4.5  27  176  59   70   30    50\n2   2015  2015  5.0  29  183  65  120  300   200\n3   2015  2016  5.0  28  172  63   80   60   190\n4   2015  2015  5.0  24  179  65   90   30   500\n5   2016  2016  5.5  34  175  73   80  480   160\n6   2016  2016  6.0  40  169  77   60  300   170\n7   2014  2014  5.0  40  182  82   50   60    50\n8   2014  2014  4.5  30  175  70  100   90   300\n9   2015  2015  5.0  42  177  79   40  480    30\n10  2014  2014  4.5  32  167  62  130  300   400\n11  2015  2015  5.5  37  171  70   90  360   200\n12  2015  2015  5.5  35  173  69   60  120   150\n13  2015  2016  6.0  41  181  88   60  120   130\n14  2015  2015  5.5  40  178  89   70   60   140\n15  2015  2015  5.0  35  169  70   50   90    80\n16  2016  2016  5.5  35  184  72   90   90    70\n17  2016  2016  6.0  34  176  71   90   60   130\n18  2015  2015  4.5  29  188  83  140  240   600\n19  2016  2016  5.5  30  175  70   50  120    50\n20  2015  2015  5.5  32  177  68   70  120   300\n21  2016  2016  5.5  25  182  73   60   60   300\n22  2015  2015  5.0  26  179  80  180   30  1100\n23  2016  2016  6.0  25  177  76  120   90   700\n"
     ]
    }
   ],
   "source": [
    "#파이썬으로 상관분석, 회귀분석 테스트\n",
    "import numpy as np\n",
    "import pandas as pd\n",
    "\n",
    "#csv 파일 읽어오기\n",
    "hdr = ['V1','V2','V3','V4','V5','V6','V7','V8','V9']\n",
    "df = pd.read_csv('c:/Java/phone-02.csv', header=None, names=hdr)\n",
    "print(df)"
   ]
  },
  {
   "cell_type": "code",
   "execution_count": 4,
   "metadata": {},
   "outputs": [
    {
     "name": "stdout",
     "output_type": "stream",
     "text": [
      "          V1        V2        V3        V4        V5        V6        V7  \\\nV1  1.000000  0.875755  0.752180 -0.057010  0.102323  0.166902 -0.096836   \nV2  0.875755  1.000000  0.723747 -0.093357  0.093573  0.096822 -0.175814   \nV3  0.752180  0.723747  1.000000  0.239556 -0.034477  0.338715 -0.282315   \nV4 -0.057010 -0.093357  0.239556  1.000000 -0.213501  0.489606 -0.536855   \nV5  0.102323  0.093573 -0.034477 -0.213501  1.000000  0.408851  0.225963   \nV6  0.166902  0.096822  0.338715  0.489606  0.408851  1.000000 -0.045841   \nV7 -0.096836 -0.175814 -0.282315 -0.536855  0.225963 -0.045841  1.000000   \nV8  0.081391 -0.049020 -0.059084  0.509728 -0.243432  0.056084 -0.099183   \nV9  0.004434 -0.095588 -0.135595 -0.583759  0.203416  0.117825  0.842554   \n\n          V8        V9  \nV1  0.081391  0.004434  \nV2 -0.049020 -0.095588  \nV3 -0.059084 -0.135595  \nV4  0.509728 -0.583759  \nV5 -0.243432  0.203416  \nV6  0.056084  0.117825  \nV7 -0.099183  0.842554  \nV8  1.000000 -0.222825  \nV9 -0.222825  1.000000  \n"
     ]
    }
   ],
   "source": [
    "\n",
    "#상관 분석 실시\n",
    "dfc = df.corr()\n",
    "print(dfc)"
   ]
  },
  {
   "cell_type": "code",
   "execution_count": 5,
   "metadata": {},
   "outputs": [
    {
     "name": "stdout",
     "output_type": "stream",
     "text": [
      "핸드폰 사용량-데이터 소모량 관계 0.84255392345921\n"
     ]
    }
   ],
   "source": [
    "# df97 = df['V9'].corr(df['V7'])\n",
    "df97 = df.V9.corr(df.V7)\n",
    "print('핸드폰 사용량-데이터 소모량 관계',df97)"
   ]
  },
  {
   "cell_type": "code",
   "execution_count": 8,
   "metadata": {},
   "outputs": [
    {
     "name": "stdout",
     "output_type": "stream",
     "text": [
      "LinregressResult(slope=6.282598387861545, intercept=-272.0009483167378, rvalue=0.84255392345921, pvalue=2.405151755765765e-07, stderr=0.8562612243672811)\n"
     ]
    }
   ],
   "source": [
    "#회귀분석\n",
    "from scipy import stats\n",
    "lm = stats.linregress(df.V7, df.V9)\n",
    "#기울기, 절편, 상관계수, 오류지수p, 표준오차\n",
    "print(lm)\n",
    "\n",
    "#회귀식 : y = 절편 + 기울기x"
   ]
  },
  {
   "cell_type": "code",
   "execution_count": 63,
   "metadata": {
    "collapsed": false
   },
   "outputs": [
    {
     "name": "stdout",
     "output_type": "stream",
     "text": [
      "예측전기 사용량 : 2.901994372142104\n"
     ]
    },
    {
     "data": {
      "image/png": "[encoded data removed]",
      "text/plain": [
       "<matplotlib.figure.Figure at 0x129cf1d0>"
      ]
     },
     "metadata": {},
     "output_type": "display_data"
    }
   ],
   "source": [
    "#어떤 공장의 월별 생산량x과 전기사용량y을 이용해서 회귀분석\n",
    "from scipy import polyval\n",
    "#x:독립변수, y:종속변수\n",
    "make = [3.52,2.58,3.31,4.07,4.62,3.98,4.29,4.83,3.71,4.61,3.90,3.20] #단위 :억\n",
    "\n",
    "power = [2.48,2.27,2.47,2.77,2.98,3.05,3.18,3.46,3.03,3.25,2.67,2.53]\n",
    "\n",
    "data = {'매출':make, '전기':power}\n",
    "mp = pd.DataFrame(data,index=[1,2,3,4,5,6,7,8,9,10,11,12])\n",
    "\n",
    "기울기, 절편, 상관계수, p값, 표준오차 = stats.linregress(mp.매출,mp.전기)\n",
    "\n",
    "#매출이 4억이면 전기사용량은 아마도?\n",
    "예측전기사용량 = 절편 + 기울기 * 4\n",
    "print('예측전기 사용량 :', 예측전기사용량)   #2.9\n",
    "\n",
    "import matplotlib.pyplot as plt\n",
    "import matplotlib as mp\n",
    "\n",
    "krfont = {'family':'Malgun Gothic', 'weight':'bold', 'size':10}\n",
    "mp.rc('font',**krfont)\n",
    "\n",
    "ry = polyval([기울기, 절편], make)\n",
    "plt.plot(make, power, 'bD')  #파랑색 점\n",
    "plt.plot(make, ry,'r.:')   #빨간색 점, 실선\n",
    "plt.title('회귀분석 결과')\n",
    "plt.legend(['실제 데이터', '회귀분석을 따르는 모델'])\n",
    "plt.show()"
   ]
  },
  {
   "cell_type": "code",
   "execution_count": 43,
   "metadata": {
    "collapsed": true
   },
   "outputs": [
    {
     "data": {
      "image/png": "[encoded data removed]",
      "text/plain": [
       "<matplotlib.figure.Figure at 0x126b7208>"
      ]
     },
     "metadata": {},
     "output_type": "display_data"
    }
   ],
   "source": [
    ""
   ]
  },
  {
   "cell_type": "code",
   "execution_count": 32,
   "metadata": {},
   "outputs": [
    {
     "data": {
      "text/html": [
       "<div>\n",
       "<style scoped>\n",
       "    .dataframe tbody tr th:only-of-type {\n",
       "        vertical-align: middle;\n",
       "    }\n",
       "\n",
       "    .dataframe tbody tr th {\n",
       "        vertical-align: top;\n",
       "    }\n",
       "\n",
       "    .dataframe thead th {\n",
       "        text-align: right;\n",
       "    }\n",
       "</style>\n",
       "<table border=\"1\" class=\"dataframe\">\n",
       "  <thead>\n",
       "    <tr style=\"text-align: right;\">\n",
       "      <th></th>\n",
       "      <th>make</th>\n",
       "      <th>power</th>\n",
       "    </tr>\n",
       "  </thead>\n",
       "  <tbody>\n",
       "    <tr>\n",
       "      <th>0</th>\n",
       "      <td>3.52</td>\n",
       "      <td>2.48</td>\n",
       "    </tr>\n",
       "    <tr>\n",
       "      <th>1</th>\n",
       "      <td>2.58</td>\n",
       "      <td>2.27</td>\n",
       "    </tr>\n",
       "    <tr>\n",
       "      <th>2</th>\n",
       "      <td>3.31</td>\n",
       "      <td>2.47</td>\n",
       "    </tr>\n",
       "    <tr>\n",
       "      <th>3</th>\n",
       "      <td>4.07</td>\n",
       "      <td>2.77</td>\n",
       "    </tr>\n",
       "    <tr>\n",
       "      <th>4</th>\n",
       "      <td>4.62</td>\n",
       "      <td>2.98</td>\n",
       "    </tr>\n",
       "    <tr>\n",
       "      <th>5</th>\n",
       "      <td>3.98</td>\n",
       "      <td>3.05</td>\n",
       "    </tr>\n",
       "    <tr>\n",
       "      <th>6</th>\n",
       "      <td>4.29</td>\n",
       "      <td>3.18</td>\n",
       "    </tr>\n",
       "    <tr>\n",
       "      <th>7</th>\n",
       "      <td>4.83</td>\n",
       "      <td>3.46</td>\n",
       "    </tr>\n",
       "    <tr>\n",
       "      <th>8</th>\n",
       "      <td>3.71</td>\n",
       "      <td>3.03</td>\n",
       "    </tr>\n",
       "    <tr>\n",
       "      <th>9</th>\n",
       "      <td>4.61</td>\n",
       "      <td>3.25</td>\n",
       "    </tr>\n",
       "    <tr>\n",
       "      <th>10</th>\n",
       "      <td>3.90</td>\n",
       "      <td>2.67</td>\n",
       "    </tr>\n",
       "    <tr>\n",
       "      <th>11</th>\n",
       "      <td>3.20</td>\n",
       "      <td>2.53</td>\n",
       "    </tr>\n",
       "  </tbody>\n",
       "</table>\n",
       "</div>"
      ],
      "text/plain": [
       "<div>\n",
       "<style scoped>\n",
       "    .dataframe tbody tr th:only-of-type {\n",
       "        vertical-align: middle;\n",
       "    }\n",
       "\n",
       "    .dataframe tbody tr th {\n",
       "        vertical-align: top;\n",
       "    }\n",
       "\n",
       "    .dataframe thead th {\n",
       "        text-align: right;\n",
       "    }\n",
       "</style>\n",
       "<table border=\"1\" class=\"dataframe\">\n",
       "  <thead>\n",
       "    <tr style=\"text-align: right;\">\n",
       "      <th></th>\n",
       "      <th>make</th>\n",
       "      <th>power</th>\n",
       "    </tr>\n",
       "  </thead>\n",
       "  <tbody>\n",
       "    <tr>\n",
       "      <th>0</th>\n",
       "      <td>3.52</td>\n",
       "      <td>2.48</td>\n",
       "    </tr>\n",
       "    <tr>\n",
       "      <th>1</th>\n",
       "      <td>2.58</td>\n",
       "      <td>2.27</td>\n",
       "    </tr>\n",
       "    <tr>\n",
       "      <th>2</th>\n",
       "      <td>3.31</td>\n",
       "      <td>2.47</td>\n",
       "    </tr>\n",
       "    <tr>\n",
       "      <th>3</th>\n",
       "      <td>4.07</td>\n",
       "      <td>2.77</td>\n",
       "    </tr>\n",
       "    <tr>\n",
       "      <th>4</th>\n",
       "      <td>4.62</td>\n",
       "      <td>2.98</td>\n",
       "    </tr>\n",
       "    <tr>\n",
       "      <th>5</th>\n",
       "      <td>3.98</td>\n",
       "      <td>3.05</td>\n",
       "    </tr>\n",
       "    <tr>\n",
       "      <th>6</th>\n",
       "      <td>4.29</td>\n",
       "      <td>3.18</td>\n",
       "    </tr>\n",
       "    <tr>\n",
       "      <th>7</th>\n",
       "      <td>4.83</td>\n",
       "      <td>3.46</td>\n",
       "    </tr>\n",
       "    <tr>\n",
       "      <th>8</th>\n",
       "      <td>3.71</td>\n",
       "      <td>3.03</td>\n",
       "    </tr>\n",
       "    <tr>\n",
       "      <th>9</th>\n",
       "      <td>4.61</td>\n",
       "      <td>3.25</td>\n",
       "    </tr>\n",
       "    <tr>\n",
       "      <th>10</th>\n",
       "      <td>3.90</td>\n",
       "      <td>2.67</td>\n",
       "    </tr>\n",
       "    <tr>\n",
       "      <th>11</th>\n",
       "      <td>3.20</td>\n",
       "      <td>2.53</td>\n",
       "    </tr>\n",
       "  </tbody>\n",
       "</table>\n",
       "</div>"
      ]
     },
     "execution_count": 32,
     "metadata": {},
     "output_type": "execute_result"
    }
   ],
   "source": [
    "\n"
   ]
  },
  {
   "cell_type": "code",
   "execution_count": null,
   "metadata": {},
   "outputs": [],
   "source": [
    ""
   ]
  }
 ],
 "metadata": {
  "kernelspec": {
   "display_name": "Python 2",
   "language": "python",
   "name": "python2"
  },
  "language_info": {
   "codemirror_mode": {
    "name": "ipython",
    "version": 2
   },
   "file_extension": ".py",
   "mimetype": "text/x-python",
   "name": "python",
   "nbconvert_exporter": "python",
   "pygments_lexer": "ipython2",
   "version": "2.7.6"
  }
 },
 "nbformat": 4,
 "nbformat_minor": 0
}
